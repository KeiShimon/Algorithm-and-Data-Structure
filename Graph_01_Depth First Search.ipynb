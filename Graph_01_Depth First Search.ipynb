{
 "cells": [
  {
   "cell_type": "code",
   "execution_count": 1,
   "metadata": {},
   "outputs": [],
   "source": [
    "from enum import Enum\n",
    "from collections import OrderedDict"
   ]
  },
  {
   "cell_type": "code",
   "execution_count": 2,
   "metadata": {},
   "outputs": [],
   "source": [
    "class State(Enum):\n",
    "    unvisited = 0\n",
    "    visited = 1\n",
    "    visiting = 2"
   ]
  },
  {
   "cell_type": "code",
   "execution_count": 22,
   "metadata": {},
   "outputs": [],
   "source": [
    "class Node:\n",
    "    def __init__(self,num):\n",
    "        self.num = num\n",
    "        self.state = State.unvisited\n",
    "        self.adjacent = OrderedDict()\n",
    "        \n",
    "    def __str__(self):\n",
    "        return str(self.num)"
   ]
  },
  {
   "cell_type": "code",
   "execution_count": 4,
   "metadata": {},
   "outputs": [],
   "source": [
    "class Graph:\n",
    "    def __init__(self):\n",
    "        self.nodes = OrderedDict()\n",
    "    \n",
    "    def addNode(self,num):\n",
    "        node = Node(num)\n",
    "        self.nodes[num] = node\n",
    "        return node\n",
    "    \n",
    "    def addEdge(self,source,dest,weight=0):\n",
    "        if source not in self.nodes:\n",
    "            self.addNode(source)\n",
    "        if dest not in self.nodes:\n",
    "            self.addNode(dest)\n",
    "        self.nodes[source].adjacent[self.nodes[dest]] = weight"
   ]
  },
  {
   "cell_type": "code",
   "execution_count": 23,
   "metadata": {},
   "outputs": [],
   "source": [
    "def dfs(graph,start,visited=None):\n",
    "    if not visited:\n",
    "        visited = set()\n",
    "    visited.add(start)\n",
    "    \n",
    "    for nxt in graph[start] - visited:\n",
    "        dfs(graph,nxt,visited)\n",
    "    \n",
    "    return visited"
   ]
  },
  {
   "cell_type": "code",
   "execution_count": null,
   "metadata": {},
   "outputs": [],
   "source": [
    "def dfs_path(graph,start,goal):\n",
    "    stack = [(start, [start])]\n",
    "    \n",
    "    while stack:\n",
    "        (vertex,path) = stack.pop()\n",
    "        for nxt in graph[vertex] - set(path):\n",
    "            if nxt == goal:\n",
    "                yield path + [nxt]\n",
    "            else:\n",
    "                stack.append(nxt, path+[nxt])"
   ]
  }
 ],
 "metadata": {
  "kernelspec": {
   "display_name": "Python 3",
   "language": "python",
   "name": "python3"
  },
  "language_info": {
   "codemirror_mode": {
    "name": "ipython",
    "version": 3
   },
   "file_extension": ".py",
   "mimetype": "text/x-python",
   "name": "python",
   "nbconvert_exporter": "python",
   "pygments_lexer": "ipython3",
   "version": "3.6.4"
  }
 },
 "nbformat": 4,
 "nbformat_minor": 2
}
