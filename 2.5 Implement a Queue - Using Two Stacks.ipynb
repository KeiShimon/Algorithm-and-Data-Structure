{
 "cells": [
  {
   "cell_type": "code",
   "execution_count": 1,
   "metadata": {},
   "outputs": [],
   "source": [
    "class Queue2Stacks:\n",
    "    \n",
    "    def __init__(self):\n",
    "        self.instack = []\n",
    "        self.outstack = []\n",
    "     \n",
    "    def enqueue(self,element):\n",
    "        self.instack.append(element)\n",
    "        \n",
    "\n",
    "        \n",
    "    def dequeue(self):\n",
    "        \n",
    "        if not self.outstack: #check if self.out is empty\n",
    "            \n",
    "            #move items into self.out\n",
    "            while self.instack:\n",
    "                self.outstack.append(self.instack.pop())\n",
    "        \n",
    "        return self.outstack.pop()"
   ]
  },
  {
   "cell_type": "markdown",
   "metadata": {},
   "source": [
    "# dequeがコールされた後\n",
    "\n",
    "outに入っているアイテム群は、これからinに入るアイテムより前\n",
    "\n",
    "QueueはFIFOだから、outに既に入っているアイテムから呼び出せばよい（つまりinは放置でOK）\n",
    "\n",
    "もしdequeueがコールされたとき、outがまた空になっていたら、inから再補充する"
   ]
  },
  {
   "cell_type": "code",
   "execution_count": null,
   "metadata": {},
   "outputs": [],
   "source": []
  }
 ],
 "metadata": {
  "kernelspec": {
   "display_name": "Python 3",
   "language": "python",
   "name": "python3"
  },
  "language_info": {
   "codemirror_mode": {
    "name": "ipython",
    "version": 3
   },
   "file_extension": ".py",
   "mimetype": "text/x-python",
   "name": "python",
   "nbconvert_exporter": "python",
   "pygments_lexer": "ipython3",
   "version": "3.6.4"
  }
 },
 "nbformat": 4,
 "nbformat_minor": 2
}
