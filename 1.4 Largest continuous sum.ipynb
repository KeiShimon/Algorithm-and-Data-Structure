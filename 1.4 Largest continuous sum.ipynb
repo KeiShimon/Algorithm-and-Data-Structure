{
 "cells": [
  {
   "cell_type": "code",
   "execution_count": 18,
   "metadata": {},
   "outputs": [],
   "source": [
    "def large_cont_sum(arr): \n",
    "    \n",
    "    if len(arr) == 0:\n",
    "        return 0\n",
    "    \n",
    "    if len(arr) == 1:\n",
    "        return arr[0]\n",
    "    \n",
    "    m, curm = arr[0], arr[0]\n",
    "    cursum = 0\n",
    "    max_s, max_e = 0, 0\n",
    "    cmax_s, cmax_e = 0, 0\n",
    "    \n",
    "    for i,x in enumerate(arr):\n",
    "        \n",
    "        if cursum < 0:\n",
    "            \n",
    "            if x > 0:\n",
    "                cursum = x\n",
    "                cmax_s = i\n",
    "                cmax_e = i                \n",
    "            \n",
    "            if m < x:\n",
    "                m = x\n",
    "                max_s = i\n",
    "                max_e = i\n",
    "        \n",
    "        else:\n",
    "            \n",
    "            cursum += x\n",
    "            \n",
    "            if x > 0:\n",
    "                curm = cursum\n",
    "                cmax_e = i\n",
    "                \n",
    "                if curm > m:\n",
    "                    m = curm\n",
    "                    max_s = cmax_s\n",
    "                    max_e = cmax_e\n",
    "                \n",
    "                \n",
    "        #print('max:{}, cursum:{}, max_s:{}, max_e:{}'.format(m,cursum,max_s,max_e))\n",
    "\n",
    "    return m"
   ]
  },
  {
   "cell_type": "code",
   "execution_count": 19,
   "metadata": {},
   "outputs": [
    {
     "data": {
      "text/plain": [
       "23"
      ]
     },
     "execution_count": 19,
     "metadata": {},
     "output_type": "execute_result"
    }
   ],
   "source": [
    "large_cont_sum([1,2,-4,3,4,10,-10,16,-1])\n"
   ]
  },
  {
   "cell_type": "code",
   "execution_count": 20,
   "metadata": {},
   "outputs": [
    {
     "name": "stdout",
     "output_type": "stream",
     "text": [
      "ALL TEST CASES PASSED\n"
     ]
    }
   ],
   "source": [
    "from nose.tools import assert_equal\n",
    "\n",
    "class LargeContTest(object):\n",
    "    def test(self,sol):\n",
    "        assert_equal(sol([1,2,-1,3,4,-1]),9)\n",
    "        assert_equal(sol([1,2,-1,3,4,10,10,-10,-1]),29)\n",
    "        assert_equal(sol([-1,1]),1)\n",
    "        print('ALL TEST CASES PASSED')\n",
    "        \n",
    "#Run Test\n",
    "t = LargeContTest()\n",
    "t.test(large_cont_sum)"
   ]
  },
  {
   "cell_type": "code",
   "execution_count": null,
   "metadata": {},
   "outputs": [],
   "source": []
  }
 ],
 "metadata": {
  "kernelspec": {
   "display_name": "Python 3",
   "language": "python",
   "name": "python3"
  },
  "language_info": {
   "codemirror_mode": {
    "name": "ipython",
    "version": 3
   },
   "file_extension": ".py",
   "mimetype": "text/x-python",
   "name": "python",
   "nbconvert_exporter": "python",
   "pygments_lexer": "ipython3",
   "version": "3.6.4"
  }
 },
 "nbformat": 4,
 "nbformat_minor": 2
}
