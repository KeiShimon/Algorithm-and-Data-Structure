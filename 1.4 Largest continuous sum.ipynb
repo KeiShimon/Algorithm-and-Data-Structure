{
 "cells": [
  {
   "cell_type": "code",
   "execution_count": 29,
   "metadata": {},
   "outputs": [],
   "source": [
    "def large_cont_sum(arr): \n",
    "    \n",
    "    if len(arr) == 0:\n",
    "        return 0\n",
    "    \n",
    "    m = arr[0]\n",
    "    cursum = 0\n",
    "    max_id_s = 0\n",
    "    max_id_e = 0\n",
    "    \n",
    "    for i,x in enumerate(arr):\n",
    "        \n",
    "        if cursum <= 0:\n",
    "            if x > 0:\n",
    "                #reset sequence\n",
    "                m = x\n",
    "                cursum = x\n",
    "                max_id_s = i\n",
    "                max_id_e = i\n",
    "            else:\n",
    "                cursum += x\n",
    "            \n",
    "            print('max:{}, cursum:{}, max_id_s:{}, max_id_e:{}'.format(m,cursum,max_id_s,max_id_e))\n",
    "            continue\n",
    "        \n",
    "        else:\n",
    "            cursum += x\n",
    "            if x > 0:\n",
    "                m = cursum\n",
    "                max_id_e = i\n",
    "            print('max:{}, cursum:{}, max_id_s:{}, max_id_e:{}'.format(m,cursum,max_id_s,max_id_e))\n",
    "\n",
    "    return m"
   ]
  },
  {
   "cell_type": "code",
   "execution_count": 30,
   "metadata": {},
   "outputs": [
    {
     "name": "stdout",
     "output_type": "stream",
     "text": [
      "max:0, cursum:-2, max_id_s:0, max_id_e:0\n",
      "max:0, cursum:-6, max_id_s:0, max_id_e:0\n",
      "max:0, cursum:-7, max_id_s:0, max_id_e:0\n"
     ]
    },
    {
     "data": {
      "text/plain": [
       "0"
      ]
     },
     "execution_count": 30,
     "metadata": {},
     "output_type": "execute_result"
    }
   ],
   "source": [
    "large_cont_sum([-2,-4,-1])\n"
   ]
  },
  {
   "cell_type": "code",
   "execution_count": 26,
   "metadata": {},
   "outputs": [
    {
     "name": "stdout",
     "output_type": "stream",
     "text": [
      "max:1, cursum:1, max_id_s:0, max_id_e:0\n",
      "max:3, cursum:3, max_id_s:0, max_id_e:1\n",
      "max:3, cursum:2, max_id_s:0, max_id_e:1\n",
      "max:5, cursum:5, max_id_s:0, max_id_e:3\n",
      "max:9, cursum:9, max_id_s:0, max_id_e:4\n",
      "max:9, cursum:8, max_id_s:0, max_id_e:4\n",
      "max:1, cursum:1, max_id_s:0, max_id_e:0\n",
      "max:3, cursum:3, max_id_s:0, max_id_e:1\n",
      "max:3, cursum:2, max_id_s:0, max_id_e:1\n",
      "max:5, cursum:5, max_id_s:0, max_id_e:3\n",
      "max:9, cursum:9, max_id_s:0, max_id_e:4\n",
      "max:19, cursum:19, max_id_s:0, max_id_e:5\n",
      "max:29, cursum:29, max_id_s:0, max_id_e:6\n",
      "max:29, cursum:19, max_id_s:0, max_id_e:6\n",
      "max:29, cursum:18, max_id_s:0, max_id_e:6\n",
      "max:0, cursum:-1, max_id_s:0, max_id_e:0\n",
      "max:1, cursum:1, max_id_s:1, max_id_e:1\n",
      "ALL TEST CASES PASSED\n"
     ]
    }
   ],
   "source": [
    "from nose.tools import assert_equal\n",
    "\n",
    "class LargeContTest(object):\n",
    "    def test(self,sol):\n",
    "        assert_equal(sol([1,2,-1,3,4,-1]),9)\n",
    "        assert_equal(sol([1,2,-1,3,4,10,10,-10,-1]),29)\n",
    "        assert_equal(sol([-1,1]),1)\n",
    "        print('ALL TEST CASES PASSED')\n",
    "        \n",
    "#Run Test\n",
    "t = LargeContTest()\n",
    "t.test(large_cont_sum)"
   ]
  },
  {
   "cell_type": "code",
   "execution_count": null,
   "metadata": {},
   "outputs": [],
   "source": []
  }
 ],
 "metadata": {
  "kernelspec": {
   "display_name": "Python 3",
   "language": "python",
   "name": "python3"
  },
  "language_info": {
   "codemirror_mode": {
    "name": "ipython",
    "version": 3
   },
   "file_extension": ".py",
   "mimetype": "text/x-python",
   "name": "python",
   "nbconvert_exporter": "python",
   "pygments_lexer": "ipython3",
   "version": "3.6.4"
  }
 },
 "nbformat": 4,
 "nbformat_minor": 2
}
