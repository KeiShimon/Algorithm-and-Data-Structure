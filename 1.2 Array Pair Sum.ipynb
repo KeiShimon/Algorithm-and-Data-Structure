{
 "cells": [
  {
   "cell_type": "code",
   "execution_count": 1,
   "metadata": {},
   "outputs": [],
   "source": [
    "# My first trial\n",
    "# worst O(n^2)\n",
    "\n",
    "def pair_sum(arr, k):\n",
    "    s = set()\n",
    "    \n",
    "    arr.sort(reverse = True)\n",
    "    \n",
    "    for i,x in enumerate(arr):\n",
    "        if (k > x + arr[i+1]) or (k < x + arr[-1]):\n",
    "            if i == len(arr) - 2:\n",
    "                return len(s)\n",
    "            continue\n",
    "\n",
    "        else:\n",
    "            for j in arr[i+1:]:\n",
    "                if x + j == k:\n",
    "                    s.add((x,j))\n",
    "                    \n",
    "        if i == len(arr) - 2:\n",
    "            return len(s)"
   ]
  },
  {
   "cell_type": "code",
   "execution_count": 2,
   "metadata": {},
   "outputs": [],
   "source": [
    "#more efficient! O(n)\n",
    "\n",
    "def pair_sum(arr, k):\n",
    "    \n",
    "    seen = set()\n",
    "    pair = set()\n",
    "    \n",
    "    for x in arr:\n",
    "        target = k-x\n",
    "        \n",
    "        if not target in seen:\n",
    "            seen.add(x)\n",
    "            \n",
    "        else:\n",
    "            pair.add((min(x,target), max(x,target)))\n",
    "            \n",
    "    print(pair)\n",
    "    return len(pair)"
   ]
  },
  {
   "cell_type": "code",
   "execution_count": 3,
   "metadata": {},
   "outputs": [
    {
     "name": "stdout",
     "output_type": "stream",
     "text": [
      "{(4, 6), (5, 5), (2, 8), (-1, 11), (1, 9), (3, 7)}\n",
      "{(1, 2)}\n",
      "{(1, 3), (2, 2)}\n",
      "ALL TEST CASES PASSED\n"
     ]
    }
   ],
   "source": [
    "\"\"\"\n",
    "RUN THIS CELL TO TEST YOUR SOLUTION\n",
    "\"\"\"\n",
    "from nose.tools import assert_equal\n",
    "\n",
    "class TestPair(object):\n",
    "    \n",
    "    def test(self,sol):\n",
    "        assert_equal(sol([1,9,2,8,3,7,4,6,5,5,13,14,11,13,-1],10),6)\n",
    "        assert_equal(sol([1,2,3,1],3),1)\n",
    "        assert_equal(sol([1,3,2,2],4),2)\n",
    "        print('ALL TEST CASES PASSED')\n",
    "        \n",
    "#Run tests\n",
    "t = TestPair()\n",
    "t.test(pair_sum)\n",
    "    "
   ]
  }
 ],
 "metadata": {
  "kernelspec": {
   "display_name": "Python 3",
   "language": "python",
   "name": "python3"
  },
  "language_info": {
   "codemirror_mode": {
    "name": "ipython",
    "version": 3
   },
   "file_extension": ".py",
   "mimetype": "text/x-python",
   "name": "python",
   "nbconvert_exporter": "python",
   "pygments_lexer": "ipython3",
   "version": "3.6.4"
  }
 },
 "nbformat": 4,
 "nbformat_minor": 2
}
